{
 "cells": [
  {
   "cell_type": "code",
   "execution_count": 1,
   "metadata": {},
   "outputs": [
    {
     "name": "stderr",
     "output_type": "stream",
     "text": [
      "c:\\Users\\ASUS\\anaconda3\\envs\\trytorch\\lib\\site-packages\\tqdm\\auto.py:21: TqdmWarning: IProgress not found. Please update jupyter and ipywidgets. See https://ipywidgets.readthedocs.io/en/stable/user_install.html\n",
      "  from .autonotebook import tqdm as notebook_tqdm\n"
     ]
    }
   ],
   "source": [
    "from lib.mistralai import load_model"
   ]
  },
  {
   "cell_type": "code",
   "execution_count": 2,
   "metadata": {},
   "outputs": [],
   "source": [
    "model_path = './mistral_7B/mistral_model_v0.2'\n",
    "tokenizer_path = './mistral_7B/mistral_tokenizer_v0.2'"
   ]
  },
  {
   "cell_type": "code",
   "execution_count": 3,
   "metadata": {},
   "outputs": [
    {
     "name": "stderr",
     "output_type": "stream",
     "text": [
      "Loading checkpoint shards: 100%|██████████| 6/6 [00:36<00:00,  6.10s/it]\n"
     ]
    }
   ],
   "source": [
    "model, tokenizer = load_model(\n",
    "    model_path=model_path,\n",
    "    tokenizer_path=tokenizer_path,\n",
    ")"
   ]
  },
  {
   "cell_type": "code",
   "execution_count": 4,
   "metadata": {},
   "outputs": [],
   "source": [
    "val = \"mero mobile banking ko password birsiye\""
   ]
  },
  {
   "cell_type": "code",
   "execution_count": 5,
   "metadata": {},
   "outputs": [],
   "source": [
    "from lib.messages import format_model_input, infer_response, process_response"
   ]
  },
  {
   "cell_type": "code",
   "execution_count": 6,
   "metadata": {},
   "outputs": [
    {
     "name": "stderr",
     "output_type": "stream",
     "text": [
      "The attention mask and the pad token id were not set. As a consequence, you may observe unexpected behavior. Please pass your input's `attention_mask` to obtain reliable results.\n",
      "Setting `pad_token_id` to `eos_token_id`:2 for open-end generation.\n",
      "c:\\Users\\ASUS\\anaconda3\\envs\\trytorch\\lib\\site-packages\\transformers\\generation\\utils.py:1659: UserWarning: You are calling .generate() with the `input_ids` being on a device type different than your model's device. `input_ids` is on cpu, whereas the model is on cuda. You may experience unexpected behaviors or slower generation. Please make sure that you have put `input_ids` to the correct device by calling for example input_ids = input_ids.to('cuda') before running `.generate()`.\n",
      "  warnings.warn(\n",
      "c:\\Users\\ASUS\\anaconda3\\envs\\trytorch\\lib\\site-packages\\transformers\\models\\mistral\\modeling_mistral.py:674: UserWarning: 1Torch was not compiled with flash attention. (Triggered internally at C:\\actions-runner\\_work\\pytorch\\pytorch\\builder\\windows\\pytorch\\aten\\src\\ATen\\native\\transformers\\cuda\\sdp_utils.cpp:455.)\n",
      "  attn_output = torch.nn.functional.scaled_dot_product_attention(\n"
     ]
    },
    {
     "name": "stdout",
     "output_type": "stream",
     "text": [
      "<s> [INST] <|im_start|>system You are a helpful, intelligent translator. The text may contain nepali roman english or english text.Please translate it to understandable pure english text output_format: { \"prediction\" : \"your final english translated text, strictly just translation only\", \"note\" : \"your opinion here\" } advice to you: please don't include double quotation within the explanation and prediction value. you are not expected to provide any justification and explanation and you should not as well. Strictly enforce the policy to not write anything outside the output_format { and }. provide pure translation, no explanation or any sort within the translated text as well. <|im_end|> <|im_start|>user text : mero mobile banking ko password birsiye <|im_end|> [/INST] { \"prediction\" : \"I am forgetting the password of my mobile banking\", \"note\" : \"\" }</s>\n",
      "from preprocess :\n",
      "\t <class 'str'>\n"
     ]
    }
   ],
   "source": [
    "translatation_encoded = format_model_input(\n",
    "    input=val,\n",
    "    tokenizer=tokenizer,\n",
    "    mode='translation'\n",
    ")\n",
    "\n",
    "translation_decoded = infer_response(\n",
    "    model=model,\n",
    "    tokenizer=tokenizer,\n",
    "    encoded=translatation_encoded\n",
    ")\n",
    "\n",
    "print(translation_decoded)\n",
    "\n",
    "translation = process_response(translation_decoded)"
   ]
  },
  {
   "cell_type": "code",
   "execution_count": 10,
   "metadata": {},
   "outputs": [
    {
     "name": "stderr",
     "output_type": "stream",
     "text": [
      "The attention mask and the pad token id were not set. As a consequence, you may observe unexpected behavior. Please pass your input's `attention_mask` to obtain reliable results.\n",
      "Setting `pad_token_id` to `eos_token_id`:2 for open-end generation.\n",
      "c:\\Users\\ASUS\\anaconda3\\envs\\trytorch\\lib\\site-packages\\transformers\\generation\\utils.py:1659: UserWarning: You are calling .generate() with the `input_ids` being on a device type different than your model's device. `input_ids` is on cpu, whereas the model is on cuda. You may experience unexpected behaviors or slower generation. Please make sure that you have put `input_ids` to the correct device by calling for example input_ids = input_ids.to('cuda') before running `.generate()`.\n",
      "  warnings.warn(\n"
     ]
    },
    {
     "name": "stdout",
     "output_type": "stream",
     "text": [
      "from preprocess :\n",
      "\t <class 'str'>\n"
     ]
    }
   ],
   "source": [
    "classification_encoded = format_model_input(\n",
    "    input=translation,\n",
    "    tokenizer=tokenizer,\n",
    "    mode='classification'\n",
    ")\n",
    "\n",
    "classification_decoded = infer_response(\n",
    "    model = model,\n",
    "    tokenizer=tokenizer,\n",
    "    encoded=classification_encoded\n",
    ")\n",
    "\n",
    "classification = process_response(classification_decoded)"
   ]
  },
  {
   "cell_type": "code",
   "execution_count": 11,
   "metadata": {},
   "outputs": [
    {
     "name": "stdout",
     "output_type": "stream",
     "text": [
      "PasswordPIN Reset\n"
     ]
    }
   ],
   "source": [
    "print(classification)"
   ]
  },
  {
   "cell_type": "code",
   "execution_count": 4,
   "metadata": {},
   "outputs": [],
   "source": [
    "import pandas as pd\n",
    "import json"
   ]
  },
  {
   "cell_type": "code",
   "execution_count": 11,
   "metadata": {},
   "outputs": [],
   "source": [
    "dataPath = './data/output.csv'"
   ]
  },
  {
   "cell_type": "code",
   "execution_count": 12,
   "metadata": {},
   "outputs": [],
   "source": [
    "df = pd.read_csv(dataPath)"
   ]
  },
  {
   "cell_type": "code",
   "execution_count": 15,
   "metadata": {},
   "outputs": [],
   "source": [
    "df.dropna(inplace=True)"
   ]
  },
  {
   "cell_type": "code",
   "execution_count": 16,
   "metadata": {},
   "outputs": [],
   "source": [
    "cat = []\n",
    "for x in list(df['Category']):\n",
    "    x = str(x)\n",
    "    x = x.replace(\"\\'\", \"\\\"\")\n",
    "    try:\n",
    "        temp = json.loads(x)\n",
    "        cat.append(temp['category'])\n",
    "    except:\n",
    "        print(x)\n",
    "    "
   ]
  },
  {
   "cell_type": "code",
   "execution_count": 18,
   "metadata": {},
   "outputs": [],
   "source": [
    "df['Category'] = cat"
   ]
  },
  {
   "cell_type": "code",
   "execution_count": 30,
   "metadata": {},
   "outputs": [],
   "source": [
    "df.to_csv('./data/processed_out.csv')"
   ]
  },
  {
   "cell_type": "code",
   "execution_count": 27,
   "metadata": {},
   "outputs": [
    {
     "data": {
      "text/plain": [
       "Category\n",
       "Transaction Pending     104\n",
       "Others                  102\n",
       "Transaction Failure      60\n",
       "PasswordPIN Reset        20\n",
       "Registration             15\n",
       "Renewal                   7\n",
       "BlockUnblock              7\n",
       "VKYC                      6\n",
       "Registration, Others      1\n",
       "Name: count, dtype: int64"
      ]
     },
     "execution_count": 27,
     "metadata": {},
     "output_type": "execute_result"
    }
   ],
   "source": [
    "df['Category'].value_counts()"
   ]
  },
  {
   "cell_type": "code",
   "execution_count": 28,
   "metadata": {},
   "outputs": [],
   "source": [
    "df['Category'] = df['Category'].replace('Registration, Others','Registration')"
   ]
  },
  {
   "cell_type": "code",
   "execution_count": null,
   "metadata": {},
   "outputs": [],
   "source": []
  }
 ],
 "metadata": {
  "kernelspec": {
   "display_name": "trytorch",
   "language": "python",
   "name": "python3"
  },
  "language_info": {
   "codemirror_mode": {
    "name": "ipython",
    "version": 3
   },
   "file_extension": ".py",
   "mimetype": "text/x-python",
   "name": "python",
   "nbconvert_exporter": "python",
   "pygments_lexer": "ipython3",
   "version": "3.9.19"
  }
 },
 "nbformat": 4,
 "nbformat_minor": 2
}
